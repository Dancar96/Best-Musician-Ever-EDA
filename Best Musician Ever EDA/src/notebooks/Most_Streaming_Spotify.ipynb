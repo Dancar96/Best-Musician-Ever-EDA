{
 "cells": [
  {
   "attachments": {},
   "cell_type": "markdown",
   "metadata": {},
   "source": [
    "# Limpieza de datos del DataFrame de los artistas más escuchados de Spotify"
   ]
  },
  {
   "attachments": {},
   "cell_type": "markdown",
   "metadata": {},
   "source": [
    "Extraido de: https://chartmasters.org/most-streamed-artists-ever-on-spotify/"
   ]
  },
  {
   "cell_type": "code",
   "execution_count": 15,
   "metadata": {},
   "outputs": [
    {
     "data": {
      "text/html": [
       "<div>\n",
       "<style scoped>\n",
       "    .dataframe tbody tr th:only-of-type {\n",
       "        vertical-align: middle;\n",
       "    }\n",
       "\n",
       "    .dataframe tbody tr th {\n",
       "        vertical-align: top;\n",
       "    }\n",
       "\n",
       "    .dataframe thead th {\n",
       "        text-align: right;\n",
       "    }\n",
       "</style>\n",
       "<table border=\"1\" class=\"dataframe\">\n",
       "  <thead>\n",
       "    <tr style=\"text-align: right;\">\n",
       "      <th></th>\n",
       "      <th>Artist</th>\n",
       "      <th>Lead Stream</th>\n",
       "      <th>Tracks</th>\n",
       "      <th>1b</th>\n",
       "      <th>100m</th>\n",
       "      <th>10m</th>\n",
       "      <th>1m</th>\n",
       "      <th>Feat Streams</th>\n",
       "    </tr>\n",
       "  </thead>\n",
       "  <tbody>\n",
       "    <tr>\n",
       "      <th>0</th>\n",
       "      <td>Drake</td>\n",
       "      <td>56,194,988,475</td>\n",
       "      <td>282</td>\n",
       "      <td>7</td>\n",
       "      <td>148</td>\n",
       "      <td>275</td>\n",
       "      <td>279</td>\n",
       "      <td>20,329,715,771</td>\n",
       "    </tr>\n",
       "    <tr>\n",
       "      <th>1</th>\n",
       "      <td>Bad Bunny</td>\n",
       "      <td>51,189,983,147</td>\n",
       "      <td>162</td>\n",
       "      <td>9</td>\n",
       "      <td>121</td>\n",
       "      <td>157</td>\n",
       "      <td>160</td>\n",
       "      <td>7,541,244,342</td>\n",
       "    </tr>\n",
       "    <tr>\n",
       "      <th>2</th>\n",
       "      <td>Taylor Swift</td>\n",
       "      <td>42,204,571,789</td>\n",
       "      <td>353</td>\n",
       "      <td>2</td>\n",
       "      <td>128</td>\n",
       "      <td>277</td>\n",
       "      <td>341</td>\n",
       "      <td>471,196,255</td>\n",
       "    </tr>\n",
       "    <tr>\n",
       "      <th>3</th>\n",
       "      <td>Ed Sheeran</td>\n",
       "      <td>41,120,157,022</td>\n",
       "      <td>251</td>\n",
       "      <td>11</td>\n",
       "      <td>67</td>\n",
       "      <td>187</td>\n",
       "      <td>228</td>\n",
       "      <td>3,082,734,708</td>\n",
       "    </tr>\n",
       "    <tr>\n",
       "      <th>4</th>\n",
       "      <td>The Weeknd</td>\n",
       "      <td>39,704,788,932</td>\n",
       "      <td>219</td>\n",
       "      <td>10</td>\n",
       "      <td>80</td>\n",
       "      <td>148</td>\n",
       "      <td>185</td>\n",
       "      <td>6,540,530,184</td>\n",
       "    </tr>\n",
       "    <tr>\n",
       "      <th>...</th>\n",
       "      <td>...</td>\n",
       "      <td>...</td>\n",
       "      <td>...</td>\n",
       "      <td>...</td>\n",
       "      <td>...</td>\n",
       "      <td>...</td>\n",
       "      <td>...</td>\n",
       "      <td>...</td>\n",
       "    </tr>\n",
       "    <tr>\n",
       "      <th>95</th>\n",
       "      <td>BLACKPINK</td>\n",
       "      <td>8,946,547,337</td>\n",
       "      <td>104</td>\n",
       "      <td>0</td>\n",
       "      <td>24</td>\n",
       "      <td>49</td>\n",
       "      <td>104</td>\n",
       "      <td>559,319,185</td>\n",
       "    </tr>\n",
       "    <tr>\n",
       "      <th>96</th>\n",
       "      <td>Tyler, The Creator</td>\n",
       "      <td>8,921,201,314</td>\n",
       "      <td>152</td>\n",
       "      <td>0</td>\n",
       "      <td>25</td>\n",
       "      <td>93</td>\n",
       "      <td>110</td>\n",
       "      <td>1,887,276,856</td>\n",
       "    </tr>\n",
       "    <tr>\n",
       "      <th>97</th>\n",
       "      <td>James Arthur</td>\n",
       "      <td>8,894,424,356</td>\n",
       "      <td>154</td>\n",
       "      <td>1</td>\n",
       "      <td>17</td>\n",
       "      <td>68</td>\n",
       "      <td>134</td>\n",
       "      <td>86,678,847</td>\n",
       "    </tr>\n",
       "    <tr>\n",
       "      <th>98</th>\n",
       "      <td>Sebastian Yatra</td>\n",
       "      <td>8,868,875,753</td>\n",
       "      <td>119</td>\n",
       "      <td>0</td>\n",
       "      <td>25</td>\n",
       "      <td>73</td>\n",
       "      <td>108</td>\n",
       "      <td>2,416,699,376</td>\n",
       "    </tr>\n",
       "    <tr>\n",
       "      <th>99</th>\n",
       "      <td>Frank Ocean</td>\n",
       "      <td>8,827,904,295</td>\n",
       "      <td>45</td>\n",
       "      <td>0</td>\n",
       "      <td>23</td>\n",
       "      <td>45</td>\n",
       "      <td>45</td>\n",
       "      <td>2,567,537,457</td>\n",
       "    </tr>\n",
       "  </tbody>\n",
       "</table>\n",
       "<p>100 rows × 8 columns</p>\n",
       "</div>"
      ],
      "text/plain": [
       "                Artist     Lead Stream  Tracks  1b  100m  10m   1m  \\\n",
       "0                Drake  56,194,988,475     282   7   148  275  279   \n",
       "1            Bad Bunny  51,189,983,147     162   9   121  157  160   \n",
       "2         Taylor Swift  42,204,571,789     353   2   128  277  341   \n",
       "3           Ed Sheeran  41,120,157,022     251  11    67  187  228   \n",
       "4           The Weeknd  39,704,788,932     219  10    80  148  185   \n",
       "..                 ...             ...     ...  ..   ...  ...  ...   \n",
       "95           BLACKPINK   8,946,547,337     104   0    24   49  104   \n",
       "96  Tyler, The Creator   8,921,201,314     152   0    25   93  110   \n",
       "97        James Arthur   8,894,424,356     154   1    17   68  134   \n",
       "98     Sebastian Yatra   8,868,875,753     119   0    25   73  108   \n",
       "99         Frank Ocean   8,827,904,295      45   0    23   45   45   \n",
       "\n",
       "      Feat Streams  \n",
       "0   20,329,715,771  \n",
       "1    7,541,244,342  \n",
       "2      471,196,255  \n",
       "3    3,082,734,708  \n",
       "4    6,540,530,184  \n",
       "..             ...  \n",
       "95     559,319,185  \n",
       "96   1,887,276,856  \n",
       "97      86,678,847  \n",
       "98   2,416,699,376  \n",
       "99   2,567,537,457  \n",
       "\n",
       "[100 rows x 8 columns]"
      ]
     },
     "execution_count": 15,
     "metadata": {},
     "output_type": "execute_result"
    }
   ],
   "source": [
    "import pandas as pd\n",
    "\n",
    "df = pd.read_csv('..\\data\\Most_Streaming_Spotify.csv', sep='|', index_col=0)\n",
    "df"
   ]
  },
  {
   "cell_type": "code",
   "execution_count": 2,
   "metadata": {},
   "outputs": [
    {
     "data": {
      "text/html": [
       "<div>\n",
       "<style scoped>\n",
       "    .dataframe tbody tr th:only-of-type {\n",
       "        vertical-align: middle;\n",
       "    }\n",
       "\n",
       "    .dataframe tbody tr th {\n",
       "        vertical-align: top;\n",
       "    }\n",
       "\n",
       "    .dataframe thead th {\n",
       "        text-align: right;\n",
       "    }\n",
       "</style>\n",
       "<table border=\"1\" class=\"dataframe\">\n",
       "  <thead>\n",
       "    <tr style=\"text-align: right;\">\n",
       "      <th></th>\n",
       "      <th>Artist</th>\n",
       "      <th>Lead Stream</th>\n",
       "      <th>Tracks</th>\n",
       "      <th>1b</th>\n",
       "      <th>100m</th>\n",
       "      <th>10m</th>\n",
       "      <th>1m</th>\n",
       "      <th>Feat Streams</th>\n",
       "    </tr>\n",
       "  </thead>\n",
       "  <tbody>\n",
       "    <tr>\n",
       "      <th>count</th>\n",
       "      <td>100</td>\n",
       "      <td>100</td>\n",
       "      <td>100.000000</td>\n",
       "      <td>100.000000</td>\n",
       "      <td>100.00000</td>\n",
       "      <td>100.000000</td>\n",
       "      <td>100.000000</td>\n",
       "      <td>100</td>\n",
       "    </tr>\n",
       "    <tr>\n",
       "      <th>unique</th>\n",
       "      <td>100</td>\n",
       "      <td>100</td>\n",
       "      <td>NaN</td>\n",
       "      <td>NaN</td>\n",
       "      <td>NaN</td>\n",
       "      <td>NaN</td>\n",
       "      <td>NaN</td>\n",
       "      <td>94</td>\n",
       "    </tr>\n",
       "    <tr>\n",
       "      <th>top</th>\n",
       "      <td>Drake</td>\n",
       "      <td>56,194,988,475</td>\n",
       "      <td>NaN</td>\n",
       "      <td>NaN</td>\n",
       "      <td>NaN</td>\n",
       "      <td>NaN</td>\n",
       "      <td>NaN</td>\n",
       "      <td>0</td>\n",
       "    </tr>\n",
       "    <tr>\n",
       "      <th>freq</th>\n",
       "      <td>1</td>\n",
       "      <td>1</td>\n",
       "      <td>NaN</td>\n",
       "      <td>NaN</td>\n",
       "      <td>NaN</td>\n",
       "      <td>NaN</td>\n",
       "      <td>NaN</td>\n",
       "      <td>7</td>\n",
       "    </tr>\n",
       "    <tr>\n",
       "      <th>mean</th>\n",
       "      <td>NaN</td>\n",
       "      <td>NaN</td>\n",
       "      <td>227.860000</td>\n",
       "      <td>2.780000</td>\n",
       "      <td>36.74000</td>\n",
       "      <td>110.000000</td>\n",
       "      <td>177.240000</td>\n",
       "      <td>NaN</td>\n",
       "    </tr>\n",
       "    <tr>\n",
       "      <th>std</th>\n",
       "      <td>NaN</td>\n",
       "      <td>NaN</td>\n",
       "      <td>163.019366</td>\n",
       "      <td>2.646057</td>\n",
       "      <td>23.54691</td>\n",
       "      <td>48.496173</td>\n",
       "      <td>85.879069</td>\n",
       "      <td>NaN</td>\n",
       "    </tr>\n",
       "    <tr>\n",
       "      <th>min</th>\n",
       "      <td>NaN</td>\n",
       "      <td>NaN</td>\n",
       "      <td>35.000000</td>\n",
       "      <td>0.000000</td>\n",
       "      <td>11.00000</td>\n",
       "      <td>25.000000</td>\n",
       "      <td>34.000000</td>\n",
       "      <td>NaN</td>\n",
       "    </tr>\n",
       "    <tr>\n",
       "      <th>25%</th>\n",
       "      <td>NaN</td>\n",
       "      <td>NaN</td>\n",
       "      <td>127.000000</td>\n",
       "      <td>1.000000</td>\n",
       "      <td>23.00000</td>\n",
       "      <td>81.000000</td>\n",
       "      <td>117.000000</td>\n",
       "      <td>NaN</td>\n",
       "    </tr>\n",
       "    <tr>\n",
       "      <th>50%</th>\n",
       "      <td>NaN</td>\n",
       "      <td>NaN</td>\n",
       "      <td>189.500000</td>\n",
       "      <td>2.000000</td>\n",
       "      <td>31.00000</td>\n",
       "      <td>98.500000</td>\n",
       "      <td>163.000000</td>\n",
       "      <td>NaN</td>\n",
       "    </tr>\n",
       "    <tr>\n",
       "      <th>75%</th>\n",
       "      <td>NaN</td>\n",
       "      <td>NaN</td>\n",
       "      <td>266.250000</td>\n",
       "      <td>4.000000</td>\n",
       "      <td>41.50000</td>\n",
       "      <td>124.500000</td>\n",
       "      <td>221.250000</td>\n",
       "      <td>NaN</td>\n",
       "    </tr>\n",
       "    <tr>\n",
       "      <th>max</th>\n",
       "      <td>NaN</td>\n",
       "      <td>NaN</td>\n",
       "      <td>945.000000</td>\n",
       "      <td>11.000000</td>\n",
       "      <td>148.00000</td>\n",
       "      <td>277.000000</td>\n",
       "      <td>487.000000</td>\n",
       "      <td>NaN</td>\n",
       "    </tr>\n",
       "  </tbody>\n",
       "</table>\n",
       "</div>"
      ],
      "text/plain": [
       "       Artist     Lead Stream      Tracks          1b       100m         10m  \\\n",
       "count     100             100  100.000000  100.000000  100.00000  100.000000   \n",
       "unique    100             100         NaN         NaN        NaN         NaN   \n",
       "top     Drake  56,194,988,475         NaN         NaN        NaN         NaN   \n",
       "freq        1               1         NaN         NaN        NaN         NaN   \n",
       "mean      NaN             NaN  227.860000    2.780000   36.74000  110.000000   \n",
       "std       NaN             NaN  163.019366    2.646057   23.54691   48.496173   \n",
       "min       NaN             NaN   35.000000    0.000000   11.00000   25.000000   \n",
       "25%       NaN             NaN  127.000000    1.000000   23.00000   81.000000   \n",
       "50%       NaN             NaN  189.500000    2.000000   31.00000   98.500000   \n",
       "75%       NaN             NaN  266.250000    4.000000   41.50000  124.500000   \n",
       "max       NaN             NaN  945.000000   11.000000  148.00000  277.000000   \n",
       "\n",
       "                1m Feat Streams  \n",
       "count   100.000000          100  \n",
       "unique         NaN           94  \n",
       "top            NaN            0  \n",
       "freq           NaN            7  \n",
       "mean    177.240000          NaN  \n",
       "std      85.879069          NaN  \n",
       "min      34.000000          NaN  \n",
       "25%     117.000000          NaN  \n",
       "50%     163.000000          NaN  \n",
       "75%     221.250000          NaN  \n",
       "max     487.000000          NaN  "
      ]
     },
     "execution_count": 2,
     "metadata": {},
     "output_type": "execute_result"
    }
   ],
   "source": [
    "df.describe(include='all')"
   ]
  },
  {
   "cell_type": "code",
   "execution_count": 3,
   "metadata": {},
   "outputs": [
    {
     "data": {
      "text/html": [
       "<div>\n",
       "<style scoped>\n",
       "    .dataframe tbody tr th:only-of-type {\n",
       "        vertical-align: middle;\n",
       "    }\n",
       "\n",
       "    .dataframe tbody tr th {\n",
       "        vertical-align: top;\n",
       "    }\n",
       "\n",
       "    .dataframe thead th {\n",
       "        text-align: right;\n",
       "    }\n",
       "</style>\n",
       "<table border=\"1\" class=\"dataframe\">\n",
       "  <thead>\n",
       "    <tr style=\"text-align: right;\">\n",
       "      <th></th>\n",
       "      <th>Artist</th>\n",
       "      <th>Lead Stream</th>\n",
       "      <th>Feat Streams</th>\n",
       "    </tr>\n",
       "  </thead>\n",
       "  <tbody>\n",
       "    <tr>\n",
       "      <th>0</th>\n",
       "      <td>Drake</td>\n",
       "      <td>56,194,988,475</td>\n",
       "      <td>20,329,715,771</td>\n",
       "    </tr>\n",
       "    <tr>\n",
       "      <th>1</th>\n",
       "      <td>Bad Bunny</td>\n",
       "      <td>51,189,983,147</td>\n",
       "      <td>7,541,244,342</td>\n",
       "    </tr>\n",
       "    <tr>\n",
       "      <th>2</th>\n",
       "      <td>Taylor Swift</td>\n",
       "      <td>42,204,571,789</td>\n",
       "      <td>471,196,255</td>\n",
       "    </tr>\n",
       "    <tr>\n",
       "      <th>3</th>\n",
       "      <td>Ed Sheeran</td>\n",
       "      <td>41,120,157,022</td>\n",
       "      <td>3,082,734,708</td>\n",
       "    </tr>\n",
       "    <tr>\n",
       "      <th>4</th>\n",
       "      <td>The Weeknd</td>\n",
       "      <td>39,704,788,932</td>\n",
       "      <td>6,540,530,184</td>\n",
       "    </tr>\n",
       "    <tr>\n",
       "      <th>...</th>\n",
       "      <td>...</td>\n",
       "      <td>...</td>\n",
       "      <td>...</td>\n",
       "    </tr>\n",
       "    <tr>\n",
       "      <th>95</th>\n",
       "      <td>BLACKPINK</td>\n",
       "      <td>8,946,547,337</td>\n",
       "      <td>559,319,185</td>\n",
       "    </tr>\n",
       "    <tr>\n",
       "      <th>96</th>\n",
       "      <td>Tyler, The Creator</td>\n",
       "      <td>8,921,201,314</td>\n",
       "      <td>1,887,276,856</td>\n",
       "    </tr>\n",
       "    <tr>\n",
       "      <th>97</th>\n",
       "      <td>James Arthur</td>\n",
       "      <td>8,894,424,356</td>\n",
       "      <td>86,678,847</td>\n",
       "    </tr>\n",
       "    <tr>\n",
       "      <th>98</th>\n",
       "      <td>Sebastian Yatra</td>\n",
       "      <td>8,868,875,753</td>\n",
       "      <td>2,416,699,376</td>\n",
       "    </tr>\n",
       "    <tr>\n",
       "      <th>99</th>\n",
       "      <td>Frank Ocean</td>\n",
       "      <td>8,827,904,295</td>\n",
       "      <td>2,567,537,457</td>\n",
       "    </tr>\n",
       "  </tbody>\n",
       "</table>\n",
       "<p>100 rows × 3 columns</p>\n",
       "</div>"
      ],
      "text/plain": [
       "                Artist     Lead Stream    Feat Streams\n",
       "0                Drake  56,194,988,475  20,329,715,771\n",
       "1            Bad Bunny  51,189,983,147   7,541,244,342\n",
       "2         Taylor Swift  42,204,571,789     471,196,255\n",
       "3           Ed Sheeran  41,120,157,022   3,082,734,708\n",
       "4           The Weeknd  39,704,788,932   6,540,530,184\n",
       "..                 ...             ...             ...\n",
       "95           BLACKPINK   8,946,547,337     559,319,185\n",
       "96  Tyler, The Creator   8,921,201,314   1,887,276,856\n",
       "97        James Arthur   8,894,424,356      86,678,847\n",
       "98     Sebastian Yatra   8,868,875,753   2,416,699,376\n",
       "99         Frank Ocean   8,827,904,295   2,567,537,457\n",
       "\n",
       "[100 rows x 3 columns]"
      ]
     },
     "execution_count": 3,
     "metadata": {},
     "output_type": "execute_result"
    }
   ],
   "source": [
    "'''\n",
    "Para este proyecto, me interesa saber la clasificación de los artistas en spotify en cuanto a popularidad, es decir, \n",
    "cuantas veces se reproducen sus canciones. No nos importan las columnas de el número de canciones que han tenido muchas reproducciones,\n",
    "sino el numero de veces que han sido reproducidas.\n",
    "\n",
    "Tras haber hecho web scraping a la página tenemos un dataframe bastante limpio con el que podemos gráficar.\n",
    "\n",
    "'''\n",
    "\n",
    "# Por tanto, procederemos a quitar las columnas que no nos importan.\n",
    "\n",
    "df.drop(['Tracks', '1b', '100m', '10m', '1m'], axis=1, inplace=True)\n",
    "df"
   ]
  },
  {
   "cell_type": "code",
   "execution_count": 4,
   "metadata": {},
   "outputs": [
    {
     "name": "stdout",
     "output_type": "stream",
     "text": [
      "object\n",
      "object\n"
     ]
    }
   ],
   "source": [
    "# Nos quedan en estas dos columnas los datos de reproducciones de canciones como artista primario y de canciones en colaboración con otros artistas.\n",
    "# Nos interesa crear una nueva columna con el sumatorio total de reproducciones.\n",
    "# Pero antes debemos comprobar de que tipo son las columnas y si son strings, pasarlas a entero. Vemos que tienen comas, por lo que serán strings.\n",
    "\n",
    "print(df['Lead Stream'].dtype)\n",
    "print(df['Feat Streams'].dtype)"
   ]
  },
  {
   "cell_type": "code",
   "execution_count": 7,
   "metadata": {},
   "outputs": [],
   "source": [
    "# Los pasamos a float, porque son numeros demasiado grandes para pasarlos a enteros, OverflowError.\n",
    "\n",
    "df['Lead Stream'] = df['Lead Stream'].str.replace(',','').astype(float)\n",
    "df['Feat Streams'] = df['Feat Streams'].str.replace(',','').astype(float)"
   ]
  },
  {
   "cell_type": "code",
   "execution_count": 8,
   "metadata": {},
   "outputs": [
    {
     "data": {
      "text/html": [
       "<div>\n",
       "<style scoped>\n",
       "    .dataframe tbody tr th:only-of-type {\n",
       "        vertical-align: middle;\n",
       "    }\n",
       "\n",
       "    .dataframe tbody tr th {\n",
       "        vertical-align: top;\n",
       "    }\n",
       "\n",
       "    .dataframe thead th {\n",
       "        text-align: right;\n",
       "    }\n",
       "</style>\n",
       "<table border=\"1\" class=\"dataframe\">\n",
       "  <thead>\n",
       "    <tr style=\"text-align: right;\">\n",
       "      <th></th>\n",
       "      <th>Artist</th>\n",
       "      <th>Lead Stream</th>\n",
       "      <th>Feat Streams</th>\n",
       "      <th>Total Streams</th>\n",
       "    </tr>\n",
       "  </thead>\n",
       "  <tbody>\n",
       "    <tr>\n",
       "      <th>0</th>\n",
       "      <td>Drake</td>\n",
       "      <td>5.619499e+10</td>\n",
       "      <td>2.032972e+10</td>\n",
       "      <td>7.652470e+10</td>\n",
       "    </tr>\n",
       "    <tr>\n",
       "      <th>1</th>\n",
       "      <td>Bad Bunny</td>\n",
       "      <td>5.118998e+10</td>\n",
       "      <td>7.541244e+09</td>\n",
       "      <td>5.873123e+10</td>\n",
       "    </tr>\n",
       "    <tr>\n",
       "      <th>2</th>\n",
       "      <td>Taylor Swift</td>\n",
       "      <td>4.220457e+10</td>\n",
       "      <td>4.711963e+08</td>\n",
       "      <td>4.267577e+10</td>\n",
       "    </tr>\n",
       "    <tr>\n",
       "      <th>3</th>\n",
       "      <td>Ed Sheeran</td>\n",
       "      <td>4.112016e+10</td>\n",
       "      <td>3.082735e+09</td>\n",
       "      <td>4.420289e+10</td>\n",
       "    </tr>\n",
       "    <tr>\n",
       "      <th>4</th>\n",
       "      <td>The Weeknd</td>\n",
       "      <td>3.970479e+10</td>\n",
       "      <td>6.540530e+09</td>\n",
       "      <td>4.624532e+10</td>\n",
       "    </tr>\n",
       "    <tr>\n",
       "      <th>...</th>\n",
       "      <td>...</td>\n",
       "      <td>...</td>\n",
       "      <td>...</td>\n",
       "      <td>...</td>\n",
       "    </tr>\n",
       "    <tr>\n",
       "      <th>95</th>\n",
       "      <td>BLACKPINK</td>\n",
       "      <td>8.946547e+09</td>\n",
       "      <td>5.593192e+08</td>\n",
       "      <td>9.505867e+09</td>\n",
       "    </tr>\n",
       "    <tr>\n",
       "      <th>96</th>\n",
       "      <td>Tyler, The Creator</td>\n",
       "      <td>8.921201e+09</td>\n",
       "      <td>1.887277e+09</td>\n",
       "      <td>1.080848e+10</td>\n",
       "    </tr>\n",
       "    <tr>\n",
       "      <th>97</th>\n",
       "      <td>James Arthur</td>\n",
       "      <td>8.894424e+09</td>\n",
       "      <td>8.667885e+07</td>\n",
       "      <td>8.981103e+09</td>\n",
       "    </tr>\n",
       "    <tr>\n",
       "      <th>98</th>\n",
       "      <td>Sebastian Yatra</td>\n",
       "      <td>8.868876e+09</td>\n",
       "      <td>2.416699e+09</td>\n",
       "      <td>1.128558e+10</td>\n",
       "    </tr>\n",
       "    <tr>\n",
       "      <th>99</th>\n",
       "      <td>Frank Ocean</td>\n",
       "      <td>8.827904e+09</td>\n",
       "      <td>2.567537e+09</td>\n",
       "      <td>1.139544e+10</td>\n",
       "    </tr>\n",
       "  </tbody>\n",
       "</table>\n",
       "<p>100 rows × 4 columns</p>\n",
       "</div>"
      ],
      "text/plain": [
       "                Artist   Lead Stream  Feat Streams  Total Streams\n",
       "0                Drake  5.619499e+10  2.032972e+10   7.652470e+10\n",
       "1            Bad Bunny  5.118998e+10  7.541244e+09   5.873123e+10\n",
       "2         Taylor Swift  4.220457e+10  4.711963e+08   4.267577e+10\n",
       "3           Ed Sheeran  4.112016e+10  3.082735e+09   4.420289e+10\n",
       "4           The Weeknd  3.970479e+10  6.540530e+09   4.624532e+10\n",
       "..                 ...           ...           ...            ...\n",
       "95           BLACKPINK  8.946547e+09  5.593192e+08   9.505867e+09\n",
       "96  Tyler, The Creator  8.921201e+09  1.887277e+09   1.080848e+10\n",
       "97        James Arthur  8.894424e+09  8.667885e+07   8.981103e+09\n",
       "98     Sebastian Yatra  8.868876e+09  2.416699e+09   1.128558e+10\n",
       "99         Frank Ocean  8.827904e+09  2.567537e+09   1.139544e+10\n",
       "\n",
       "[100 rows x 4 columns]"
      ]
     },
     "execution_count": 8,
     "metadata": {},
     "output_type": "execute_result"
    }
   ],
   "source": [
    "# Creamos la columna\n",
    "df['Total Streams'] = df['Lead Stream'] + df['Feat Streams']\n",
    "df"
   ]
  },
  {
   "cell_type": "code",
   "execution_count": 10,
   "metadata": {},
   "outputs": [
    {
     "data": {
      "text/html": [
       "<div>\n",
       "<style scoped>\n",
       "    .dataframe tbody tr th:only-of-type {\n",
       "        vertical-align: middle;\n",
       "    }\n",
       "\n",
       "    .dataframe tbody tr th {\n",
       "        vertical-align: top;\n",
       "    }\n",
       "\n",
       "    .dataframe thead th {\n",
       "        text-align: right;\n",
       "    }\n",
       "</style>\n",
       "<table border=\"1\" class=\"dataframe\">\n",
       "  <thead>\n",
       "    <tr style=\"text-align: right;\">\n",
       "      <th></th>\n",
       "      <th>Artist</th>\n",
       "      <th>Lead Stream</th>\n",
       "      <th>Feat Streams</th>\n",
       "      <th>Total Streams</th>\n",
       "    </tr>\n",
       "  </thead>\n",
       "  <tbody>\n",
       "    <tr>\n",
       "      <th>0</th>\n",
       "      <td>Drake</td>\n",
       "      <td>5.619499e+10</td>\n",
       "      <td>2.032972e+10</td>\n",
       "      <td>7.652470e+10</td>\n",
       "    </tr>\n",
       "    <tr>\n",
       "      <th>1</th>\n",
       "      <td>Bad Bunny</td>\n",
       "      <td>5.118998e+10</td>\n",
       "      <td>7.541244e+09</td>\n",
       "      <td>5.873123e+10</td>\n",
       "    </tr>\n",
       "    <tr>\n",
       "      <th>4</th>\n",
       "      <td>The Weeknd</td>\n",
       "      <td>3.970479e+10</td>\n",
       "      <td>6.540530e+09</td>\n",
       "      <td>4.624532e+10</td>\n",
       "    </tr>\n",
       "    <tr>\n",
       "      <th>3</th>\n",
       "      <td>Ed Sheeran</td>\n",
       "      <td>4.112016e+10</td>\n",
       "      <td>3.082735e+09</td>\n",
       "      <td>4.420289e+10</td>\n",
       "    </tr>\n",
       "    <tr>\n",
       "      <th>5</th>\n",
       "      <td>Justin Bieber</td>\n",
       "      <td>3.522598e+10</td>\n",
       "      <td>7.677942e+09</td>\n",
       "      <td>4.290392e+10</td>\n",
       "    </tr>\n",
       "    <tr>\n",
       "      <th>...</th>\n",
       "      <td>...</td>\n",
       "      <td>...</td>\n",
       "      <td>...</td>\n",
       "      <td>...</td>\n",
       "    </tr>\n",
       "    <tr>\n",
       "      <th>91</th>\n",
       "      <td>Major Lazer</td>\n",
       "      <td>9.071955e+09</td>\n",
       "      <td>6.391425e+08</td>\n",
       "      <td>9.711098e+09</td>\n",
       "    </tr>\n",
       "    <tr>\n",
       "      <th>95</th>\n",
       "      <td>BLACKPINK</td>\n",
       "      <td>8.946547e+09</td>\n",
       "      <td>5.593192e+08</td>\n",
       "      <td>9.505867e+09</td>\n",
       "    </tr>\n",
       "    <tr>\n",
       "      <th>90</th>\n",
       "      <td>AC/DC</td>\n",
       "      <td>9.105633e+09</td>\n",
       "      <td>4.614900e+04</td>\n",
       "      <td>9.105679e+09</td>\n",
       "    </tr>\n",
       "    <tr>\n",
       "      <th>92</th>\n",
       "      <td>Fall Out Boy</td>\n",
       "      <td>9.022026e+09</td>\n",
       "      <td>4.040203e+07</td>\n",
       "      <td>9.062428e+09</td>\n",
       "    </tr>\n",
       "    <tr>\n",
       "      <th>97</th>\n",
       "      <td>James Arthur</td>\n",
       "      <td>8.894424e+09</td>\n",
       "      <td>8.667885e+07</td>\n",
       "      <td>8.981103e+09</td>\n",
       "    </tr>\n",
       "  </tbody>\n",
       "</table>\n",
       "<p>100 rows × 4 columns</p>\n",
       "</div>"
      ],
      "text/plain": [
       "           Artist   Lead Stream  Feat Streams  Total Streams\n",
       "0           Drake  5.619499e+10  2.032972e+10   7.652470e+10\n",
       "1       Bad Bunny  5.118998e+10  7.541244e+09   5.873123e+10\n",
       "4      The Weeknd  3.970479e+10  6.540530e+09   4.624532e+10\n",
       "3      Ed Sheeran  4.112016e+10  3.082735e+09   4.420289e+10\n",
       "5   Justin Bieber  3.522598e+10  7.677942e+09   4.290392e+10\n",
       "..            ...           ...           ...            ...\n",
       "91    Major Lazer  9.071955e+09  6.391425e+08   9.711098e+09\n",
       "95      BLACKPINK  8.946547e+09  5.593192e+08   9.505867e+09\n",
       "90          AC/DC  9.105633e+09  4.614900e+04   9.105679e+09\n",
       "92   Fall Out Boy  9.022026e+09  4.040203e+07   9.062428e+09\n",
       "97   James Arthur  8.894424e+09  8.667885e+07   8.981103e+09\n",
       "\n",
       "[100 rows x 4 columns]"
      ]
     },
     "execution_count": 10,
     "metadata": {},
     "output_type": "execute_result"
    }
   ],
   "source": [
    "# Ordenamos según las reproducciones totales de cualquier tipo. \n",
    "\n",
    "df = df.sort_values('Total Streams', ascending=False)\n",
    "df"
   ]
  },
  {
   "cell_type": "code",
   "execution_count": 14,
   "metadata": {},
   "outputs": [],
   "source": [
    "#df.to_csv('Most_Streaming_Spotify.csv')"
   ]
  },
  {
   "cell_type": "code",
   "execution_count": 13,
   "metadata": {},
   "outputs": [
    {
     "data": {
      "application/vnd.plotly.v1+json": {
       "config": {
        "plotlyServerURL": "https://plot.ly"
       },
       "data": [
        {
         "hovertemplate": "<b>%{hovertext}</b><br><br>Lead Stream=%{x}<br>Feat Streams=%{y}<br>Total Streams=%{marker.size}<extra></extra>",
         "hovertext": [
          "Drake",
          "Bad Bunny",
          "The Weeknd",
          "Ed Sheeran",
          "Justin Bieber",
          "Taylor Swift",
          "Eminem",
          "J Balvin",
          "Ariana Grande",
          "Post Malone",
          "Kanye West",
          "Travis Scott",
          "BTS",
          "Ozuna",
          "Rihanna",
          "Juice WRLD",
          "Kendrick Lamar",
          "Nicki Minaj",
          "Future",
          "XXXTENTACION",
          "Billie Eilish",
          "Daddy Yankee",
          "Khalid",
          "Chris Brown",
          "Bruno Mars",
          "Lil Wayne",
          "Coldplay",
          "Dua Lipa",
          "Imagine Dragons",
          "Lil Uzi Vert",
          "David Guetta",
          "Maroon 5",
          "Lil Baby",
          "Anuel AA",
          "Maluma",
          "Shawn Mendes",
          "Farruko",
          "Sia",
          "Nicky Jam",
          "J. Cole",
          "Young Thug",
          "Calvin Harris",
          "Beyoncé",
          "Sam Smith",
          "21 Savage",
          "Queen",
          "Halsey",
          "Selena Gomez",
          "Rauw Alejandro",
          "One Direction",
          "Lady Gaga",
          "The Chainsmokers",
          "Harry Styles",
          "Cardi B",
          "Adele",
          "Lana Del Rey",
          "Doja Cat",
          "Myke Towers",
          "Katy Perry",
          "The Beatles",
          "Camila Cabello",
          "Marshmello",
          "Kygo",
          "Linkin Park",
          "Shakira",
          "Avicii",
          "KAROL G",
          "Twenty One Pilots",
          "Pitbull",
          "Arctic Monkeys",
          "SZA",
          "Demi Lovato",
          "Jason Derulo",
          "Miley Cyrus",
          "Red Hot Chili Peppers",
          "OneRepublic",
          "G-Eazy",
          "Alan Walker",
          "Frank Ocean",
          "Michael Jackson",
          "Sebastian Yatra",
          "Pop Smoke",
          "Charlie Puth",
          "Mac Miller",
          "Tyler, The Creator",
          "Panic! At The Disco",
          "Olivia Rodrigo",
          "Lil Peep",
          "Ellie Goulding",
          "Elton John",
          "Metallica",
          "Martin Garrix",
          "Metro Boomin",
          "Lil Nas X",
          "P!nk",
          "Major Lazer",
          "BLACKPINK",
          "AC/DC",
          "Fall Out Boy",
          "James Arthur"
         ],
         "legendgroup": "",
         "marker": {
          "color": "#636efa",
          "size": [
           76524704246,
           58731227489,
           46245319116,
           44202891730,
           42903920019,
           42675768044,
           38327788052,
           38062749383,
           37216675996,
           34850598765,
           34544900991,
           32873024964,
           32471072041,
           31102255157,
           30600583330,
           29321834464,
           28939593787,
           28240644405,
           27600999613,
           26254203293,
           26122924139,
           25993279391,
           25445145311,
           25440234104,
           24827981152,
           24806233074,
           24635157072,
           24607729990,
           24218203323,
           23257029741,
           22828329429,
           21564505741,
           21176658179,
           21082929880,
           21012345682,
           20364694457,
           20171794673,
           20082448944,
           20004197648,
           19924132975,
           19803139304,
           19709276170,
           19668237452,
           19578254488,
           19230908242,
           18022420456,
           17798094287,
           17446890466,
           17124854323,
           16955785664,
           16793755907,
           16706263031,
           16188038556,
           16110997957,
           16014269164,
           15962169246,
           15664747477,
           15447667558,
           15280994074,
           15195890140,
           14941498148,
           14712003233,
           14344358946,
           14310742615,
           13946562511,
           13937225422,
           13868678831,
           13669856053,
           13553981888,
           13352206529,
           13290693856,
           12794884908,
           12708652470,
           12675055058,
           12036630681,
           11694607721,
           11497986669,
           11471825703,
           11395441752,
           11362390984,
           11285575129,
           11242867593,
           10973536735,
           10939206998,
           10808478170,
           10331733502,
           10231866322,
           10163555604,
           10155444059,
           10107501043,
           9920416220,
           9888972580,
           9812121104,
           9769971415,
           9733055991,
           9711097827,
           9505866522,
           9105679426,
           9062427878,
           8981103203
          ],
          "sizemode": "area",
          "sizeref": 191311760.615,
          "symbol": "circle"
         },
         "mode": "markers",
         "name": "",
         "orientation": "v",
         "showlegend": false,
         "type": "scatter",
         "x": [
          56194988475,
          51189983147,
          39704788932,
          41120157022,
          35225977864,
          42204571789,
          33760538200,
          29457751062,
          35000764144,
          31942500341,
          28346530222,
          20978753941,
          32095643864,
          23174510877,
          23242724571,
          24571142646,
          19752715305,
          15955338056,
          16983372361,
          23411694483,
          26122877545,
          19788590136,
          22376640280,
          16664135674,
          20071894514,
          9563845350,
          24635157072,
          24360913756,
          24144876094,
          14203267890,
          21037636659,
          21564486341,
          10033593565,
          15090394549,
          14256498752,
          20305953015,
          12423170993,
          14842306153,
          9462992159,
          16310879983,
          9463754240,
          19211050948,
          17464790481,
          19291675062,
          11642083813,
          17981657904,
          15114256479,
          15248609315,
          14204041868,
          16955785664,
          16692338408,
          16291877053,
          16186183010,
          9621725916,
          15972250994,
          14651595109,
          13138158376,
          9719425626,
          13993143208,
          15195890140,
          12656026058,
          14108688280,
          13216590286,
          14259886196,
          12440971197,
          13335342450,
          13282936318,
          13669856053,
          10255165646,
          13352206529,
          10671034732,
          11307688435,
          11169462438,
          11686992888,
          12036630681,
          11422264875,
          9243691156,
          9489109012,
          8827904295,
          10788611460,
          8868875753,
          10201412545,
          10722322360,
          10182597327,
          8921201314,
          9621460658,
          10229809085,
          9344508243,
          9493471639,
          9774449296,
          9905902565,
          8970964731,
          9587729058,
          9769971415,
          9016841472,
          9071955331,
          8946547337,
          9105633277,
          9022025849,
          8894424356
         ],
         "xaxis": "x",
         "y": [
          20329715771,
          7541244342,
          6540530184,
          3082734708,
          7677942155,
          471196255,
          4567249852,
          8604998321,
          2215911852,
          2908098424,
          6198370769,
          11894271023,
          375428177,
          7927744280,
          7357858759,
          4750691818,
          9186878482,
          12285306349,
          10617627252,
          2842508810,
          46594,
          6204689255,
          3068505031,
          8776098430,
          4756086638,
          15242387724,
          0,
          246816234,
          73327229,
          9053761851,
          1790692770,
          19400,
          11143064614,
          5992535331,
          6755846930,
          58741442,
          7748623680,
          5240142791,
          10541205489,
          3613252992,
          10339385064,
          498225222,
          2203446971,
          286579426,
          7588824429,
          40762552,
          2683837808,
          2198281151,
          2920812455,
          0,
          101417499,
          414385978,
          1855546,
          6489272041,
          42018170,
          1310574137,
          2526589101,
          5728241932,
          1287850866,
          0,
          2285472090,
          603314953,
          1127768660,
          50856419,
          1505591314,
          601882972,
          585742513,
          0,
          3298816242,
          0,
          2619659124,
          1487196473,
          1539190032,
          988062170,
          0,
          272342846,
          2254295513,
          1982716691,
          2567537457,
          573779524,
          2416699376,
          1041455048,
          251214375,
          756609671,
          1887276856,
          710272844,
          2057237,
          819047361,
          661972420,
          333051747,
          14513655,
          918007849,
          224392046,
          0,
          716214519,
          639142496,
          559319185,
          46149,
          40402029,
          86678847
         ],
         "yaxis": "y"
        }
       ],
       "layout": {
        "legend": {
         "itemsizing": "constant",
         "tracegroupgap": 0
        },
        "margin": {
         "t": 60
        },
        "template": {
         "data": {
          "bar": [
           {
            "error_x": {
             "color": "#2a3f5f"
            },
            "error_y": {
             "color": "#2a3f5f"
            },
            "marker": {
             "line": {
              "color": "#E5ECF6",
              "width": 0.5
             },
             "pattern": {
              "fillmode": "overlay",
              "size": 10,
              "solidity": 0.2
             }
            },
            "type": "bar"
           }
          ],
          "barpolar": [
           {
            "marker": {
             "line": {
              "color": "#E5ECF6",
              "width": 0.5
             },
             "pattern": {
              "fillmode": "overlay",
              "size": 10,
              "solidity": 0.2
             }
            },
            "type": "barpolar"
           }
          ],
          "carpet": [
           {
            "aaxis": {
             "endlinecolor": "#2a3f5f",
             "gridcolor": "white",
             "linecolor": "white",
             "minorgridcolor": "white",
             "startlinecolor": "#2a3f5f"
            },
            "baxis": {
             "endlinecolor": "#2a3f5f",
             "gridcolor": "white",
             "linecolor": "white",
             "minorgridcolor": "white",
             "startlinecolor": "#2a3f5f"
            },
            "type": "carpet"
           }
          ],
          "choropleth": [
           {
            "colorbar": {
             "outlinewidth": 0,
             "ticks": ""
            },
            "type": "choropleth"
           }
          ],
          "contour": [
           {
            "colorbar": {
             "outlinewidth": 0,
             "ticks": ""
            },
            "colorscale": [
             [
              0,
              "#0d0887"
             ],
             [
              0.1111111111111111,
              "#46039f"
             ],
             [
              0.2222222222222222,
              "#7201a8"
             ],
             [
              0.3333333333333333,
              "#9c179e"
             ],
             [
              0.4444444444444444,
              "#bd3786"
             ],
             [
              0.5555555555555556,
              "#d8576b"
             ],
             [
              0.6666666666666666,
              "#ed7953"
             ],
             [
              0.7777777777777778,
              "#fb9f3a"
             ],
             [
              0.8888888888888888,
              "#fdca26"
             ],
             [
              1,
              "#f0f921"
             ]
            ],
            "type": "contour"
           }
          ],
          "contourcarpet": [
           {
            "colorbar": {
             "outlinewidth": 0,
             "ticks": ""
            },
            "type": "contourcarpet"
           }
          ],
          "heatmap": [
           {
            "colorbar": {
             "outlinewidth": 0,
             "ticks": ""
            },
            "colorscale": [
             [
              0,
              "#0d0887"
             ],
             [
              0.1111111111111111,
              "#46039f"
             ],
             [
              0.2222222222222222,
              "#7201a8"
             ],
             [
              0.3333333333333333,
              "#9c179e"
             ],
             [
              0.4444444444444444,
              "#bd3786"
             ],
             [
              0.5555555555555556,
              "#d8576b"
             ],
             [
              0.6666666666666666,
              "#ed7953"
             ],
             [
              0.7777777777777778,
              "#fb9f3a"
             ],
             [
              0.8888888888888888,
              "#fdca26"
             ],
             [
              1,
              "#f0f921"
             ]
            ],
            "type": "heatmap"
           }
          ],
          "heatmapgl": [
           {
            "colorbar": {
             "outlinewidth": 0,
             "ticks": ""
            },
            "colorscale": [
             [
              0,
              "#0d0887"
             ],
             [
              0.1111111111111111,
              "#46039f"
             ],
             [
              0.2222222222222222,
              "#7201a8"
             ],
             [
              0.3333333333333333,
              "#9c179e"
             ],
             [
              0.4444444444444444,
              "#bd3786"
             ],
             [
              0.5555555555555556,
              "#d8576b"
             ],
             [
              0.6666666666666666,
              "#ed7953"
             ],
             [
              0.7777777777777778,
              "#fb9f3a"
             ],
             [
              0.8888888888888888,
              "#fdca26"
             ],
             [
              1,
              "#f0f921"
             ]
            ],
            "type": "heatmapgl"
           }
          ],
          "histogram": [
           {
            "marker": {
             "pattern": {
              "fillmode": "overlay",
              "size": 10,
              "solidity": 0.2
             }
            },
            "type": "histogram"
           }
          ],
          "histogram2d": [
           {
            "colorbar": {
             "outlinewidth": 0,
             "ticks": ""
            },
            "colorscale": [
             [
              0,
              "#0d0887"
             ],
             [
              0.1111111111111111,
              "#46039f"
             ],
             [
              0.2222222222222222,
              "#7201a8"
             ],
             [
              0.3333333333333333,
              "#9c179e"
             ],
             [
              0.4444444444444444,
              "#bd3786"
             ],
             [
              0.5555555555555556,
              "#d8576b"
             ],
             [
              0.6666666666666666,
              "#ed7953"
             ],
             [
              0.7777777777777778,
              "#fb9f3a"
             ],
             [
              0.8888888888888888,
              "#fdca26"
             ],
             [
              1,
              "#f0f921"
             ]
            ],
            "type": "histogram2d"
           }
          ],
          "histogram2dcontour": [
           {
            "colorbar": {
             "outlinewidth": 0,
             "ticks": ""
            },
            "colorscale": [
             [
              0,
              "#0d0887"
             ],
             [
              0.1111111111111111,
              "#46039f"
             ],
             [
              0.2222222222222222,
              "#7201a8"
             ],
             [
              0.3333333333333333,
              "#9c179e"
             ],
             [
              0.4444444444444444,
              "#bd3786"
             ],
             [
              0.5555555555555556,
              "#d8576b"
             ],
             [
              0.6666666666666666,
              "#ed7953"
             ],
             [
              0.7777777777777778,
              "#fb9f3a"
             ],
             [
              0.8888888888888888,
              "#fdca26"
             ],
             [
              1,
              "#f0f921"
             ]
            ],
            "type": "histogram2dcontour"
           }
          ],
          "mesh3d": [
           {
            "colorbar": {
             "outlinewidth": 0,
             "ticks": ""
            },
            "type": "mesh3d"
           }
          ],
          "parcoords": [
           {
            "line": {
             "colorbar": {
              "outlinewidth": 0,
              "ticks": ""
             }
            },
            "type": "parcoords"
           }
          ],
          "pie": [
           {
            "automargin": true,
            "type": "pie"
           }
          ],
          "scatter": [
           {
            "fillpattern": {
             "fillmode": "overlay",
             "size": 10,
             "solidity": 0.2
            },
            "type": "scatter"
           }
          ],
          "scatter3d": [
           {
            "line": {
             "colorbar": {
              "outlinewidth": 0,
              "ticks": ""
             }
            },
            "marker": {
             "colorbar": {
              "outlinewidth": 0,
              "ticks": ""
             }
            },
            "type": "scatter3d"
           }
          ],
          "scattercarpet": [
           {
            "marker": {
             "colorbar": {
              "outlinewidth": 0,
              "ticks": ""
             }
            },
            "type": "scattercarpet"
           }
          ],
          "scattergeo": [
           {
            "marker": {
             "colorbar": {
              "outlinewidth": 0,
              "ticks": ""
             }
            },
            "type": "scattergeo"
           }
          ],
          "scattergl": [
           {
            "marker": {
             "colorbar": {
              "outlinewidth": 0,
              "ticks": ""
             }
            },
            "type": "scattergl"
           }
          ],
          "scattermapbox": [
           {
            "marker": {
             "colorbar": {
              "outlinewidth": 0,
              "ticks": ""
             }
            },
            "type": "scattermapbox"
           }
          ],
          "scatterpolar": [
           {
            "marker": {
             "colorbar": {
              "outlinewidth": 0,
              "ticks": ""
             }
            },
            "type": "scatterpolar"
           }
          ],
          "scatterpolargl": [
           {
            "marker": {
             "colorbar": {
              "outlinewidth": 0,
              "ticks": ""
             }
            },
            "type": "scatterpolargl"
           }
          ],
          "scatterternary": [
           {
            "marker": {
             "colorbar": {
              "outlinewidth": 0,
              "ticks": ""
             }
            },
            "type": "scatterternary"
           }
          ],
          "surface": [
           {
            "colorbar": {
             "outlinewidth": 0,
             "ticks": ""
            },
            "colorscale": [
             [
              0,
              "#0d0887"
             ],
             [
              0.1111111111111111,
              "#46039f"
             ],
             [
              0.2222222222222222,
              "#7201a8"
             ],
             [
              0.3333333333333333,
              "#9c179e"
             ],
             [
              0.4444444444444444,
              "#bd3786"
             ],
             [
              0.5555555555555556,
              "#d8576b"
             ],
             [
              0.6666666666666666,
              "#ed7953"
             ],
             [
              0.7777777777777778,
              "#fb9f3a"
             ],
             [
              0.8888888888888888,
              "#fdca26"
             ],
             [
              1,
              "#f0f921"
             ]
            ],
            "type": "surface"
           }
          ],
          "table": [
           {
            "cells": {
             "fill": {
              "color": "#EBF0F8"
             },
             "line": {
              "color": "white"
             }
            },
            "header": {
             "fill": {
              "color": "#C8D4E3"
             },
             "line": {
              "color": "white"
             }
            },
            "type": "table"
           }
          ]
         },
         "layout": {
          "annotationdefaults": {
           "arrowcolor": "#2a3f5f",
           "arrowhead": 0,
           "arrowwidth": 1
          },
          "autotypenumbers": "strict",
          "coloraxis": {
           "colorbar": {
            "outlinewidth": 0,
            "ticks": ""
           }
          },
          "colorscale": {
           "diverging": [
            [
             0,
             "#8e0152"
            ],
            [
             0.1,
             "#c51b7d"
            ],
            [
             0.2,
             "#de77ae"
            ],
            [
             0.3,
             "#f1b6da"
            ],
            [
             0.4,
             "#fde0ef"
            ],
            [
             0.5,
             "#f7f7f7"
            ],
            [
             0.6,
             "#e6f5d0"
            ],
            [
             0.7,
             "#b8e186"
            ],
            [
             0.8,
             "#7fbc41"
            ],
            [
             0.9,
             "#4d9221"
            ],
            [
             1,
             "#276419"
            ]
           ],
           "sequential": [
            [
             0,
             "#0d0887"
            ],
            [
             0.1111111111111111,
             "#46039f"
            ],
            [
             0.2222222222222222,
             "#7201a8"
            ],
            [
             0.3333333333333333,
             "#9c179e"
            ],
            [
             0.4444444444444444,
             "#bd3786"
            ],
            [
             0.5555555555555556,
             "#d8576b"
            ],
            [
             0.6666666666666666,
             "#ed7953"
            ],
            [
             0.7777777777777778,
             "#fb9f3a"
            ],
            [
             0.8888888888888888,
             "#fdca26"
            ],
            [
             1,
             "#f0f921"
            ]
           ],
           "sequentialminus": [
            [
             0,
             "#0d0887"
            ],
            [
             0.1111111111111111,
             "#46039f"
            ],
            [
             0.2222222222222222,
             "#7201a8"
            ],
            [
             0.3333333333333333,
             "#9c179e"
            ],
            [
             0.4444444444444444,
             "#bd3786"
            ],
            [
             0.5555555555555556,
             "#d8576b"
            ],
            [
             0.6666666666666666,
             "#ed7953"
            ],
            [
             0.7777777777777778,
             "#fb9f3a"
            ],
            [
             0.8888888888888888,
             "#fdca26"
            ],
            [
             1,
             "#f0f921"
            ]
           ]
          },
          "colorway": [
           "#636efa",
           "#EF553B",
           "#00cc96",
           "#ab63fa",
           "#FFA15A",
           "#19d3f3",
           "#FF6692",
           "#B6E880",
           "#FF97FF",
           "#FECB52"
          ],
          "font": {
           "color": "#2a3f5f"
          },
          "geo": {
           "bgcolor": "white",
           "lakecolor": "white",
           "landcolor": "#E5ECF6",
           "showlakes": true,
           "showland": true,
           "subunitcolor": "white"
          },
          "hoverlabel": {
           "align": "left"
          },
          "hovermode": "closest",
          "mapbox": {
           "style": "light"
          },
          "paper_bgcolor": "white",
          "plot_bgcolor": "#E5ECF6",
          "polar": {
           "angularaxis": {
            "gridcolor": "white",
            "linecolor": "white",
            "ticks": ""
           },
           "bgcolor": "#E5ECF6",
           "radialaxis": {
            "gridcolor": "white",
            "linecolor": "white",
            "ticks": ""
           }
          },
          "scene": {
           "xaxis": {
            "backgroundcolor": "#E5ECF6",
            "gridcolor": "white",
            "gridwidth": 2,
            "linecolor": "white",
            "showbackground": true,
            "ticks": "",
            "zerolinecolor": "white"
           },
           "yaxis": {
            "backgroundcolor": "#E5ECF6",
            "gridcolor": "white",
            "gridwidth": 2,
            "linecolor": "white",
            "showbackground": true,
            "ticks": "",
            "zerolinecolor": "white"
           },
           "zaxis": {
            "backgroundcolor": "#E5ECF6",
            "gridcolor": "white",
            "gridwidth": 2,
            "linecolor": "white",
            "showbackground": true,
            "ticks": "",
            "zerolinecolor": "white"
           }
          },
          "shapedefaults": {
           "line": {
            "color": "#2a3f5f"
           }
          },
          "ternary": {
           "aaxis": {
            "gridcolor": "white",
            "linecolor": "white",
            "ticks": ""
           },
           "baxis": {
            "gridcolor": "white",
            "linecolor": "white",
            "ticks": ""
           },
           "bgcolor": "#E5ECF6",
           "caxis": {
            "gridcolor": "white",
            "linecolor": "white",
            "ticks": ""
           }
          },
          "title": {
           "x": 0.05
          },
          "xaxis": {
           "automargin": true,
           "gridcolor": "white",
           "linecolor": "white",
           "ticks": "",
           "title": {
            "standoff": 15
           },
           "zerolinecolor": "white",
           "zerolinewidth": 2
          },
          "yaxis": {
           "automargin": true,
           "gridcolor": "white",
           "linecolor": "white",
           "ticks": "",
           "title": {
            "standoff": 15
           },
           "zerolinecolor": "white",
           "zerolinewidth": 2
          }
         }
        },
        "xaxis": {
         "anchor": "y",
         "domain": [
          0,
          1
         ],
         "title": {
          "text": "Lead Stream"
         }
        },
        "yaxis": {
         "anchor": "x",
         "domain": [
          0,
          1
         ],
         "title": {
          "text": "Feat Streams"
         }
        }
       }
      }
     },
     "metadata": {},
     "output_type": "display_data"
    }
   ],
   "source": [
    "import plotly.express as px\n",
    "\n",
    "# trazar gráfico de burbujas con plotly\n",
    "fig = px.scatter(df, x='Lead Stream', y='Feat Streams', size='Total Streams', hover_name='Artist')\n",
    "\n",
    "# mostrar el gráfico\n",
    "fig.show()"
   ]
  }
 ],
 "metadata": {
  "kernelspec": {
   "display_name": "Python 3",
   "language": "python",
   "name": "python3"
  },
  "language_info": {
   "codemirror_mode": {
    "name": "ipython",
    "version": 3
   },
   "file_extension": ".py",
   "mimetype": "text/x-python",
   "name": "python",
   "nbconvert_exporter": "python",
   "pygments_lexer": "ipython3",
   "version": "3.7.4"
  },
  "orig_nbformat": 4
 },
 "nbformat": 4,
 "nbformat_minor": 2
}
