{
 "cells": [
  {
   "attachments": {},
   "cell_type": "markdown",
   "metadata": {},
   "source": [
    "# Web Scraping a la página web de la RIAA (Recording Industry Association of America)"
   ]
  },
  {
   "attachments": {},
   "cell_type": "markdown",
   "metadata": {},
   "source": [
    "URL: \"https://www.riaa.com/gold-platinum/?tab_active=awards_by_artist#search_section\""
   ]
  },
  {
   "attachments": {},
   "cell_type": "markdown",
   "metadata": {},
   "source": [
    "Se realiza web scraping con Selenium y se extrae un dataframe con los mejores artistas según la RIAA en base a los discos de oro/platino."
   ]
  },
  {
   "cell_type": "code",
   "execution_count": 1,
   "metadata": {},
   "outputs": [],
   "source": [
    "# Para la manipulación de datos\n",
    "import pandas as pd\n",
    "\n",
    "# Servicio y driver de Chrome de Selenium\n",
    "from selenium import webdriver\n",
    "from selenium.webdriver.chrome.service import Service\n",
    "from webdriver_manager.chrome import ChromeDriverManager\n",
    "\n",
    "# Buscar elementos\n",
    "from selenium.webdriver.common.by import By\n",
    "\n",
    "# Para \"clickear\"\n",
    "from selenium.webdriver.common.keys import Keys\n",
    "\n",
    "# Tiempo de retardo para no parecer un bot\n",
    "import time"
   ]
  },
  {
   "cell_type": "code",
   "execution_count": 10,
   "metadata": {},
   "outputs": [],
   "source": [
    "# Instalación webdriver\n",
    "service = Service(ChromeDriverManager().install())\n",
    "driver = webdriver.Chrome(service=service)"
   ]
  },
  {
   "cell_type": "code",
   "execution_count": 11,
   "metadata": {},
   "outputs": [],
   "source": [
    "riaa_url = \"https://www.riaa.com/gold-platinum/?tab_active=awards_by_artist#search_section\"\n",
    "driver.get(riaa_url)"
   ]
  },
  {
   "cell_type": "code",
   "execution_count": 12,
   "metadata": {},
   "outputs": [],
   "source": [
    "button = driver.find_element(By.CLASS_NAME, \"link-arrow-gnp\")\n",
    "for i in range(0, 4):\n",
    "    button.click()\n",
    "    time.sleep(5)"
   ]
  },
  {
   "cell_type": "code",
   "execution_count": 13,
   "metadata": {},
   "outputs": [],
   "source": [
    "data = []\n",
    "\n",
    "artist_name = []\n",
    "certifications = []\n",
    "gold = []\n",
    "platinum = []\n",
    "multi_platinum = []\n",
    "diamond = []\n",
    "\n",
    "rows = driver.find_elements(By.CLASS_NAME, \"meta_award_data\")\n",
    "for row in rows:\n",
    "    \n",
    "    name = row.find_element(By.TAG_NAME, \"h2\").text\n",
    "    artist_name.append(name)\n",
    "\n",
    "    h4 = row.find_elements(By.TAG_NAME, \"h4\")\n",
    "\n",
    "    for j in h4:\n",
    "        \n",
    "        if \"Cert. Units\" in j.text:\n",
    "            certs = j.text.split(\":\")[1]\n",
    "            certifications.append(certs)\n",
    "        elif \"Gold Units\" in j.text:\n",
    "            oro = j.text.split(\":\")[1]\n",
    "            gold.append(oro)\n",
    "        elif \"Multi Platinum Units\" in j.text:\n",
    "            mp = j.text.split(\":\")[1]\n",
    "            multi_platinum.append(mp)\n",
    "        elif \"Platinum Units\" in j.text:\n",
    "            plat = j.text.split(\":\")[1]\n",
    "            platinum.append(plat)\n",
    "        elif \"Diamond Units\" in j.text:\n",
    "            diam = j.text.split(\":\")[1]\n",
    "            diamond.append(diam)\n",
    "\n",
    "artist_data = {\n",
    "        \"artist_name\": artist_name,\n",
    "        \"certifications\": certifications,\n",
    "        \"gold_albums\": gold,\n",
    "        \"platinum_albums\": platinum,\n",
    "        \"multiplatinum_albums\": multi_platinum,\n",
    "        \"diamond_albums\": diamond\n",
    "    }\n",
    "\n",
    "\n",
    "df = pd.DataFrame(artist_data)\n"
   ]
  },
  {
   "cell_type": "code",
   "execution_count": 14,
   "metadata": {},
   "outputs": [
    {
     "name": "stdout",
     "output_type": "stream",
     "text": [
      "{'artist_name': ['THE BEATLES', 'GARTH BROOKS', 'ELVIS PRESLEY', 'EAGLES', 'LED ZEPPELIN', 'MICHAEL JACKSON', 'BILLY JOEL', 'ELTON JOHN', 'AC/DC', 'PINK FLOYD', 'MARIAH CAREY', 'BRUCE SPRINGSTEEN', 'AEROSMITH', 'GEORGE STRAIT', 'BARBRA STREISAND', 'THE ROLLING STONES', 'MADONNA', 'METALLICA', 'EMINEM', 'WHITNEY HOUSTON', 'VAN HALEN', 'FLEETWOOD MAC', 'CELINE DION', 'TAYLOR SWIFT', 'U2', 'NEIL DIAMOND', 'ALABAMA', 'JOURNEY', 'KENNY G', 'SHANIA TWAIN', 'KENNY ROGERS', 'BOB SEGER & THE SILVER BULLET BAND', \"GUNS N' ROSES\", 'ALAN JACKSON', 'SANTANA', 'QUEEN', 'REBA MC ENTIRE', 'ERIC CLAPTON', 'TIM MCGRAW', 'CHICAGO', 'SIMON & GARFUNKEL', 'FOREIGNER', 'ROD STEWART', 'BACKSTREET BOYS', '2 PAC', 'BOB DYLAN', 'DEF LEPPARD', 'KENNY CHESNEY', 'BON JOVI', 'BRITNEY SPEARS', 'DAVE MATTHEWS BAND', 'THE DOORS', 'JOHN DENVER', 'PHIL COLLINS', 'JAMES TAYLOR', 'THE CHICKS', 'DRAKE', 'R. KELLY', 'PEARL JAM', 'TOM PETTY & THE HEARTBREAKERS', 'WILLIE NELSON', 'BOSTON', 'BEYONCE', 'LINDA RONSTADT', 'LINKIN PARK', 'OZZY OSBOURNE', 'LYNYRD SKYNYRD', 'ADELE', 'BEE GEES', 'CREEDENCE CLEARWATER REVIVAL', 'MANNHEIM STEAMROLLER', 'MICHAEL BOLTON', 'N SYNC', 'NIRVANA', 'BARRY MANILOW', 'BROOKS & DUNN', 'JAY-Z', 'JOHN MELLENCAMP', 'KANYE WEST', 'RED HOT CHILI PEPPERS', 'BOYZ II MEN', 'FRANK SINATRA', 'LUTHER VANDROSS', 'ENYA', 'STEVE MILLER BAND', 'JANET JACKSON', 'RUSH', 'FAITH HILL', 'CREED', 'HOOTIE & THE BLOWFISH', 'LIL WAYNE', 'MOTLEY CRUE', 'TOBY KEITH', 'ZZ TOP', 'R.E.O. SPEEDWAGON', 'THE CARPENTERS', 'GREEN DAY', 'NICKELBACK', 'VINCE GILL', 'EARTH, WIND & FIRE', 'JOHNNY CASH', 'KID ROCK', 'SADE', 'THE CARS', 'USHER', 'BEASTIE BOYS', 'JIMI HENDRIX', 'JIMMY BUFFETT', 'NELLY', 'OUTKAST', 'RIHANNA', 'TLC', 'CARRIE UNDERWOOD', 'HEART', 'JUSTIN BIEBER', 'LIONEL RICHIE', 'THE BEACH BOYS', 'DOOBIE BROTHERS', 'THE POLICE', 'BOB MARLEY & THE WAILERS', 'GENESIS', 'JOSH GROBAN', 'KISS', 'MEAT LOAF', 'THE NOTORIOUS B.I.G.', 'THE WHO', 'ALANIS MORISSETTE', 'MARY J. BLIGE', 'PRINCE', 'ALICIA KEYS', 'R.E.M.', 'GRATEFUL DEAD', 'HANK WILLIAMS, JR.', 'NORAH JONES', 'SMASHING PUMPKINS', 'STEVIE WONDER', 'TONI BRAXTON', 'MATCHBOX TWENTY', 'CAROLE KING', 'JACKSON BROWNE', 'JANIS JOPLIN', 'JEWEL', 'RASCAL FLATTS', 'SARAH MC LACHLAN', 'CHRIS BROWN', 'CROSBY, STILLS, NASH & YOUNG', \"DESTINY'S CHILD\", 'P!NK', 'RANDY TRAVIS', 'STING'], 'certifications': [' 183', ' 157', ' 139', ' 120', ' 112.5', ' 89', ' 86', ' 79', ' 75', ' 75', ' 74', ' 71', ' 69.5', ' 69', ' 68.5', ' 66.5', ' 64.5', ' 63', ' 61.5', ' 61', ' 56.5', ' 54.5', ' 53', ' 51', ' 51', ' 49.5', ' 49', ' 49', ' 48', ' 48', ' 47.5', ' 44.5', ' 44.5', ' 43.5', ' 43.5', ' 43', ' 41', ' 40', ' 39.5', ' 38.5', ' 38.5', ' 38', ' 38', ' 37', ' 36.5', ' 36', ' 35.5', ' 35', ' 34.5', ' 34.5', ' 34.5', ' 34', ' 33.5', ' 33.5', ' 33', ' 33', ' 32.5', ' 32', ' 31.5', ' 31.5', ' 31.5', ' 31', ' 30.5', ' 30', ' 29.5', ' 29.5', ' 28.5', ' 28', ' 28', ' 28', ' 28', ' 28', ' 28', ' 28', ' 27.5', ' 27.5', ' 27.5', ' 27.5', ' 27.5', ' 27.5', ' 27', ' 27', ' 27', ' 26.5', ' 26.5', ' 26', ' 26', ' 25.5', ' 25', ' 25', ' 25', ' 25', ' 25', ' 25', ' 24.5', ' 24.5', ' 24', ' 24', ' 24', ' 23.5', ' 23.5', ' 23.5', ' 23.5', ' 23.5', ' 23.5', ' 23', ' 23', ' 23', ' 23', ' 23', ' 23', ' 23', ' 22.5', ' 22.5', ' 22.5', ' 22.5', ' 22.5', ' 22', ' 22', ' 21.5', ' 21.5', ' 21.5', ' 21', ' 21', ' 21', ' 21', ' 20.5', ' 20.5', ' 20.5', ' 20', ' 20', ' 19.5', ' 19.5', ' 19.5', ' 19.5', ' 19.5', ' 19.5', ' 19', ' 18.5', ' 18.5', ' 18.5', ' 18.5', ' 18.5', ' 18.5', ' 18', ' 18', ' 18', ' 18', ' 18', ' 18'], 'gold_albums': [' 48', ' 31', ' 101', ' 13', ' 19', ' 15', ' 19', ' 38', ' 22', ' 19', ' 17', ' 23', ' 25', ' 39', ' 51', ' 43', ' 20', ' 13', ' 12', ' 11', ' 14', ' 14', ' 13', ' 11', ' 16', ' 40', ' 27', ' 13', ' 15', ' 5', ' 28', ' 14', ' 8', ' 18', ' 21', ' 20', ' 27', ' 23', ' 14', ' 23', ' 12', ' 11', ' 27', ' 5', ' 10', ' 33', ' 11', ' 22', ' 14', ' 9', ' 17', ' 20', ' 22', ' 10', ' 20', ' 5', ' 9', ' 11', ' 12', ' 15', ' 18', ' 5', ' 8', ' 17', ' 9', ' 15', ' 20', ' 3', ' 15', ' 13', ' 18', ' 9', ' 4', ' 8', ' 24', ' 12', ' 14', ' 15', ' 10', ' 11', ' 7', ' 34', ' 20', ' 9', ' 10', ' 8', ' 24', ' 7', ' 4', ' 3', ' 11', ' 12', ' 18', ' 11', ' 13', ' 13', ' 9', ' 6', ' 13', ' 14', ' 19', ' 7', ' 8', ' 7', ' 6', ' 7', ' 16', ' 17', ' 7', ' 7', ' 8', ' 4', ' 8', ' 14', ' 11', ' 9', ' 20', ' 11', ' 8', ' 11', ' 13', ' 10', ' 26', ' 5', ' 5', ' 18', ' 4', ' 13', ' 18', ' 6', ' 13', ' 21', ' 23', ' 5', ' 9', ' 12', ' 6', ' 5', ' 8', ' 11', ' 8', ' 5', ' 8', ' 8', ' 10', ' 4', ' 6', ' 8', ' 12', ' 11'], 'platinum_albums': [' 42', ' 31', ' 57', ' 13', ' 18', ' 13', ' 17', ' 28', ' 20', ' 15', ' 15', ' 17', ' 18', ' 33', ' 30', ' 28', ' 17', ' 13', ' 11', ' 9', ' 13', ' 9', ' 11', ' 11', ' 16', ' 21', ' 21', ' 11', ' 11', ' 5', ' 17', ' 13', ' 7', ' 15', ' 10', ' 12', ' 19', ' 11', ' 11', ' 18', ' 11', ' 9', ' 19', ' 5', ' 9', ' 15', ' 8', ' 16', ' 11', ' 8', ' 14', ' 14', ' 13', ' 7', ' 14', ' 5', ' 8', ' 9', ' 7', ' 8', ' 15', ' 5', ' 7', ' 13', ' 8', ' 12', ' 13', ' 3', ' 9', ' 9', ' 8', ' 7', ' 4', ' 8', ' 13', ' 11', ' 13', ' 12', ' 9', ' 8', ' 5', ' 10', ' 18', ' 8', ' 5', ' 8', ' 14', ' 6', ' 4', ' 3', ' 9', ' 8', ' 12', ' 7', ' 8', ' 8', ' 7', ' 6', ' 11', ' 9', ' 10', ' 6', ' 7', ' 6', ' 5', ' 7', ' 10', ' 9', ' 5', ' 7', ' 8', ' 4', ' 7', ' 9', ' 8', ' 6', ' 9', ' 7', ' 8', ' 2', ' 6', ' 5', ' 10', ' 3', ' 5', ' 12', ' 3', ' 8', ' 11', ' 6', ' 7', ' 6', ' 8', ' 4', ' 6', ' 7', ' 3', ' 3', ' 3', ' 8', ' 5', ' 4', ' 7', ' 5', ' 8', ' 4', ' 6', ' 8', ' 8', ' 9'], 'multiplatinum_albums': [' 26', ' 17', ' 25', ' 11', ' 14', ' 9', ' 13', ' 14', ' 12', ' 12', ' 11', ' 11', ' 12', ' 13', ' 12', ' 11', ' 12', ' 11', ' 8', ' 7', ' 12', ' 8', ' 8', ' 9', ' 11', ' 12', ' 10', ' 9', ' 8', ' 4', ' 7', ' 7', ' 5', ' 8', ' 7', ' 8', ' 9', ' 7', ' 9', ' 8', ' 7', ' 7', ' 10', ' 3', ' 6', ' 6', ' 5', ' 7', ' 5', ' 4', ' 7', ' 5', ' 7', ' 6', ' 5', ' 4', ' 8', ' 6', ' 3', ' 5', ' 6', ' 4', ' 6', ' 7', ' 3', ' 9', ' 7', ' 3', ' 2', ' 6', ' 4', ' 6', ' 4', ' 3', ' 6', ' 6', ' 8', ' 5', ' 7', ' 6', ' 4', ' 4', ' 7', ' 5', ' 3', ' 6', ' 3', ' 6', ' 4', ' 2', ' 6', ' 5', ' 5', ' 4', ' 4', ' 6', ' 4', ' 4', ' 6', ' 6', ' 6', ' 4', ' 6', ' 5', ' 3', ' 6', ' 6', ' 3', ' 3', ' 4', ' 7', ' 3', ' 4', ' 6', ' 6', ' 3', ' 6', ' 4', ' 4', ' 2', ' 4', ' 4', ' 3', ' 2', ' 3', ' 5', ' 2', ' 6', ' 4', ' 4', ' 4', ' 4', ' 1', ' 3', ' 2', ' 2', ' 3', ' 3', ' 1', ' 3', ' 3', ' 2', ' 5', ' 4', ' 5', ' 3', ' 3', ' 5', ' 4', ' 5'], 'diamond_albums': [' 6', ' 9', ' 1', ' 3', ' 5', ' 2', ' 2', ' 1', ' 1', ' 2', ' 2', ' 2', ' 1', ' 0', ' 0', ' 1', ' 2', ' 1', ' 3', ' 3', ' 2', ' 1', ' 2', ' 1', ' 1', ' 0', ' 0', ' 2', ' 1', ' 3', ' 1', ' 1', ' 1', ' 0', ' 1', ' 0', ' 0', ' 1', ' 0', ' 0', ' 1', ' 0', ' 0', ' 2', ' 2', ' 0', ' 2', ' 0', ' 1', ' 2', ' 0', ' 1', ' 0', ' 1', ' 1', ' 2', ' 0', ' 0', ' 1', ' 1', ' 0', ' 1', ' 0', ' 0', ' 1', ' 0', ' 0', ' 2', ' 1', ' 1', ' 0', ' 0', ' 2', ' 1', ' 0', ' 0', ' 0', ' 0', ' 0', ' 0', ' 1', ' 0', ' 0', ' 0', ' 1', ' 0', ' 0', ' 0', ' 1', ' 1', ' 0', ' 0', ' 0', ' 1', ' 1', ' 0', ' 1', ' 1', ' 0', ' 0', ' 0', ' 1', ' 0', ' 0', ' 1', ' 1', ' 0', ' 0', ' 1', ' 1', ' 0', ' 1', ' 0', ' 0', ' 0', ' 1', ' 0', ' 1', ' 0', ' 1', ' 0', ' 0', ' 0', ' 1', ' 1', ' 0', ' 1', ' 0', ' 0', ' 0', ' 0', ' 0', ' 0', ' 1', ' 1', ' 1', ' 0', ' 1', ' 1', ' 0', ' 0', ' 1', ' 0', ' 0', ' 0', ' 0', ' 0', ' 0', ' 0', ' 0']}\n"
     ]
    }
   ],
   "source": [
    "print(artist_data)"
   ]
  },
  {
   "cell_type": "code",
   "execution_count": 15,
   "metadata": {},
   "outputs": [
    {
     "data": {
      "text/html": [
       "<div>\n",
       "<style scoped>\n",
       "    .dataframe tbody tr th:only-of-type {\n",
       "        vertical-align: middle;\n",
       "    }\n",
       "\n",
       "    .dataframe tbody tr th {\n",
       "        vertical-align: top;\n",
       "    }\n",
       "\n",
       "    .dataframe thead th {\n",
       "        text-align: right;\n",
       "    }\n",
       "</style>\n",
       "<table border=\"1\" class=\"dataframe\">\n",
       "  <thead>\n",
       "    <tr style=\"text-align: right;\">\n",
       "      <th></th>\n",
       "      <th>artist_name</th>\n",
       "      <th>certifications</th>\n",
       "      <th>gold_albums</th>\n",
       "      <th>platinum_albums</th>\n",
       "      <th>multiplatinum_albums</th>\n",
       "      <th>diamond_albums</th>\n",
       "    </tr>\n",
       "  </thead>\n",
       "  <tbody>\n",
       "    <tr>\n",
       "      <th>0</th>\n",
       "      <td>THE BEATLES</td>\n",
       "      <td>183</td>\n",
       "      <td>48</td>\n",
       "      <td>42</td>\n",
       "      <td>26</td>\n",
       "      <td>6</td>\n",
       "    </tr>\n",
       "    <tr>\n",
       "      <th>1</th>\n",
       "      <td>GARTH BROOKS</td>\n",
       "      <td>157</td>\n",
       "      <td>31</td>\n",
       "      <td>31</td>\n",
       "      <td>17</td>\n",
       "      <td>9</td>\n",
       "    </tr>\n",
       "    <tr>\n",
       "      <th>2</th>\n",
       "      <td>ELVIS PRESLEY</td>\n",
       "      <td>139</td>\n",
       "      <td>101</td>\n",
       "      <td>57</td>\n",
       "      <td>25</td>\n",
       "      <td>1</td>\n",
       "    </tr>\n",
       "    <tr>\n",
       "      <th>3</th>\n",
       "      <td>EAGLES</td>\n",
       "      <td>120</td>\n",
       "      <td>13</td>\n",
       "      <td>13</td>\n",
       "      <td>11</td>\n",
       "      <td>3</td>\n",
       "    </tr>\n",
       "    <tr>\n",
       "      <th>4</th>\n",
       "      <td>LED ZEPPELIN</td>\n",
       "      <td>112.5</td>\n",
       "      <td>19</td>\n",
       "      <td>18</td>\n",
       "      <td>14</td>\n",
       "      <td>5</td>\n",
       "    </tr>\n",
       "    <tr>\n",
       "      <th>...</th>\n",
       "      <td>...</td>\n",
       "      <td>...</td>\n",
       "      <td>...</td>\n",
       "      <td>...</td>\n",
       "      <td>...</td>\n",
       "      <td>...</td>\n",
       "    </tr>\n",
       "    <tr>\n",
       "      <th>145</th>\n",
       "      <td>CROSBY, STILLS, NASH &amp; YOUNG</td>\n",
       "      <td>18</td>\n",
       "      <td>4</td>\n",
       "      <td>4</td>\n",
       "      <td>3</td>\n",
       "      <td>0</td>\n",
       "    </tr>\n",
       "    <tr>\n",
       "      <th>146</th>\n",
       "      <td>DESTINY'S CHILD</td>\n",
       "      <td>18</td>\n",
       "      <td>6</td>\n",
       "      <td>6</td>\n",
       "      <td>3</td>\n",
       "      <td>0</td>\n",
       "    </tr>\n",
       "    <tr>\n",
       "      <th>147</th>\n",
       "      <td>P!NK</td>\n",
       "      <td>18</td>\n",
       "      <td>8</td>\n",
       "      <td>8</td>\n",
       "      <td>5</td>\n",
       "      <td>0</td>\n",
       "    </tr>\n",
       "    <tr>\n",
       "      <th>148</th>\n",
       "      <td>RANDY TRAVIS</td>\n",
       "      <td>18</td>\n",
       "      <td>12</td>\n",
       "      <td>8</td>\n",
       "      <td>4</td>\n",
       "      <td>0</td>\n",
       "    </tr>\n",
       "    <tr>\n",
       "      <th>149</th>\n",
       "      <td>STING</td>\n",
       "      <td>18</td>\n",
       "      <td>11</td>\n",
       "      <td>9</td>\n",
       "      <td>5</td>\n",
       "      <td>0</td>\n",
       "    </tr>\n",
       "  </tbody>\n",
       "</table>\n",
       "<p>150 rows × 6 columns</p>\n",
       "</div>"
      ],
      "text/plain": [
       "                      artist_name certifications gold_albums platinum_albums  \\\n",
       "0                     THE BEATLES            183          48              42   \n",
       "1                    GARTH BROOKS            157          31              31   \n",
       "2                   ELVIS PRESLEY            139         101              57   \n",
       "3                          EAGLES            120          13              13   \n",
       "4                    LED ZEPPELIN          112.5          19              18   \n",
       "..                            ...            ...         ...             ...   \n",
       "145  CROSBY, STILLS, NASH & YOUNG             18           4               4   \n",
       "146               DESTINY'S CHILD             18           6               6   \n",
       "147                          P!NK             18           8               8   \n",
       "148                  RANDY TRAVIS             18          12               8   \n",
       "149                         STING             18          11               9   \n",
       "\n",
       "    multiplatinum_albums diamond_albums  \n",
       "0                     26              6  \n",
       "1                     17              9  \n",
       "2                     25              1  \n",
       "3                     11              3  \n",
       "4                     14              5  \n",
       "..                   ...            ...  \n",
       "145                    3              0  \n",
       "146                    3              0  \n",
       "147                    5              0  \n",
       "148                    4              0  \n",
       "149                    5              0  \n",
       "\n",
       "[150 rows x 6 columns]"
      ]
     },
     "execution_count": 15,
     "metadata": {},
     "output_type": "execute_result"
    }
   ],
   "source": [
    "df"
   ]
  },
  {
   "cell_type": "code",
   "execution_count": 16,
   "metadata": {},
   "outputs": [],
   "source": [
    "df.to_csv(\"RIAA_alltime_best.csv\")"
   ]
  },
  {
   "cell_type": "code",
   "execution_count": 17,
   "metadata": {},
   "outputs": [],
   "source": [
    "driver.close()"
   ]
  }
 ],
 "metadata": {
  "kernelspec": {
   "display_name": "Python 3",
   "language": "python",
   "name": "python3"
  },
  "language_info": {
   "codemirror_mode": {
    "name": "ipython",
    "version": 3
   },
   "file_extension": ".py",
   "mimetype": "text/x-python",
   "name": "python",
   "nbconvert_exporter": "python",
   "pygments_lexer": "ipython3",
   "version": "3.7.4"
  },
  "orig_nbformat": 4
 },
 "nbformat": 4,
 "nbformat_minor": 2
}
